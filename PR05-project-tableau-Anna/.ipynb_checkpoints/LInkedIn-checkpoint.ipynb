{
 "cells": [
  {
   "cell_type": "markdown",
   "metadata": {},
   "source": [
    "# LinkedIn"
   ]
  },
  {
   "cell_type": "code",
   "execution_count": 69,
   "metadata": {},
   "outputs": [],
   "source": [
    "# imports\n",
    "import random\n",
    "import time as t\n",
    "from selenium import webdriver\n",
    "import csv\n",
    "import pandas as pd\n",
    "import requests\n",
    "from bs4 import BeautifulSoup\n",
    "from wordcloud import WordCloud, ImageColorGenerator\n",
    "import matplotlib.pyplot as plt\n",
    "from datetime import datetime, date, time\n",
    "\n",
    "from selenium import webdriver\n",
    "from webdriver_manager.chrome import ChromeDriverManager\n",
    "\n",
    "from selenium import webdriver\n",
    "from selenium.webdriver.common.keys import Keys\n",
    "\n",
    "from selenium.common.exceptions import NoSuchElementException"
   ]
  },
  {
   "cell_type": "code",
   "execution_count": 70,
   "metadata": {},
   "outputs": [],
   "source": [
    "# no need as no buttm\n",
    "# function to check if the button is on the page, to avoid miss-click problem\n",
    "def check_exists_by_xpath(xpath):\n",
    "    try:\n",
    "        driver.find_element_by_xpath(xpath)\n",
    "    except NoSuchElementException:\n",
    "        return False\n",
    "    return True"
   ]
  },
  {
   "cell_type": "code",
   "execution_count": null,
   "metadata": {},
   "outputs": [],
   "source": []
  },
  {
   "cell_type": "code",
   "execution_count": 90,
   "metadata": {},
   "outputs": [
    {
     "name": "stderr",
     "output_type": "stream",
     "text": [
      "[WDM] - Current google-chrome version is 86.0.4240\n",
      "[WDM] - Get LATEST driver version for 86.0.4240\n"
     ]
    },
    {
     "name": "stdout",
     "output_type": "stream",
     "text": [
      " \n"
     ]
    },
    {
     "name": "stderr",
     "output_type": "stream",
     "text": [
      "[WDM] - Driver [/Users/annavilardell/.wdm/drivers/chromedriver/mac64/86.0.4240.22/chromedriver] found in cache\n"
     ]
    }
   ],
   "source": [
    "#abrimos url en incognito y sin que se abra cada vez\n",
    "options = webdriver.ChromeOptions()\n",
    "options.add_argument('--ignore-certificate-errors')\n",
    "options.add_argument('--incognito')\n",
    "options.add_argument('--headless')\n",
    "\n",
    "#importamos webdriver\n",
    "#driver=webdriver.Chrome(\"/Applications/chromedriver\",chrome_options=options)\n",
    "driver = webdriver.Chrome(ChromeDriverManager().install())\n",
    "\n",
    "#abrimos url info\n",
    "url_target=\"https://www.linkedin.com/school/ironhack/people/\"\n",
    "url_signup=\"https://www.linkedin.com/authwall?trk=gf&trkInfo=AQGt1Vf7B65IrwAAAXUyj1KYnk0ZXqmEIyTpy4aDrg8iQxJjYq05dkXULu4hjMEHet4_8i2pf3AU76otC1Py-qouSke0rg6Mr3sK21QQlg00v4a5z31exqDoSYC-jiDaaa23KjY=&originalReferer=&sessionRedirect=https%3A%2F%2Fwww.linkedin.com%2Fschool%2Fironhack%2Fpeople%2F\"\n",
    "url_signin=\"https://www.linkedin.com/uas/login?fromSignIn=true&trk=cold_join_sign_in\"\n",
    "\n",
    "driver.get(url_signin)\n",
    "\n",
    "file= open(\"config.txt\")\n",
    "lines=file.readlines()\n",
    "username= lines[0]\n",
    "password= lines[1]\n",
    "\n",
    "\n",
    "elementID= driver.find_element_by_id(\"username\")\n",
    "elementID.send_keys(username)\n",
    "\n",
    "\n",
    "elementID= driver.find_element_by_id(\"password\")\n",
    "elementID.send_keys(password)\n",
    "\n",
    "elementID.submit()\n",
    "    \n",
    "driver.get(url_target)\n",
    "\n",
    "page= driver.find_element_by_tag_name(\"html\")\n",
    "#page.send_keys(Keys.END)\n",
    "\n",
    "#for i in range(800):\n",
    "    #page.send_keys(Keys.END)\n",
    "    #t.sleep(1)\n",
    "\n",
    "load_more= True\n",
    "count= 0\n",
    "\n",
    "while load_more:\n",
    "    try:\n",
    "        page.send_keys(Keys.END)\n",
    "        t.sleep(1)\n",
    "        if count>1:\n",
    "            load_more=True\n",
    "        else:\n",
    "            count= count + 1\n",
    "    except:\n",
    "        load_more= False"
   ]
  },
  {
   "cell_type": "code",
   "execution_count": 81,
   "metadata": {},
   "outputs": [
    {
     "name": "stderr",
     "output_type": "stream",
     "text": [
      "[WDM] - Current google-chrome version is 86.0.4240\n",
      "[WDM] - Get LATEST driver version for 86.0.4240\n",
      "[WDM] - Driver [/Users/annavilardell/.wdm/drivers/chromedriver/mac64/86.0.4240.22/chromedriver] found in cache\n"
     ]
    },
    {
     "name": "stdout",
     "output_type": "stream",
     "text": [
      " \n"
     ]
    },
    {
     "ename": "NoSuchElementException",
     "evalue": "Message: no such element: Unable to locate element: {\"method\":\"css selector\",\"selector\":\"[id=\"username\"]\"}\n  (Session info: chrome=86.0.4240.80)\n",
     "output_type": "error",
     "traceback": [
      "\u001b[0;31m---------------------------------------------------------------------------\u001b[0m",
      "\u001b[0;31mNoSuchElementException\u001b[0m                    Traceback (most recent call last)",
      "\u001b[0;32m<ipython-input-81-3d6f4a0dfc89>\u001b[0m in \u001b[0;36m<module>\u001b[0;34m\u001b[0m\n\u001b[1;32m     48\u001b[0m \u001b[0;34m\u001b[0m\u001b[0m\n\u001b[1;32m     49\u001b[0m \u001b[0;34m\u001b[0m\u001b[0m\n\u001b[0;32m---> 50\u001b[0;31m     \u001b[0melementID\u001b[0m\u001b[0;34m=\u001b[0m \u001b[0mdriver\u001b[0m\u001b[0;34m.\u001b[0m\u001b[0mfind_element_by_id\u001b[0m\u001b[0;34m(\u001b[0m\u001b[0;34m\"username\"\u001b[0m\u001b[0;34m)\u001b[0m\u001b[0;34m\u001b[0m\u001b[0;34m\u001b[0m\u001b[0m\n\u001b[0m\u001b[1;32m     51\u001b[0m     \u001b[0melementID\u001b[0m\u001b[0;34m.\u001b[0m\u001b[0msend_keys\u001b[0m\u001b[0;34m(\u001b[0m\u001b[0musername\u001b[0m\u001b[0;34m)\u001b[0m\u001b[0;34m\u001b[0m\u001b[0;34m\u001b[0m\u001b[0m\n\u001b[1;32m     52\u001b[0m \u001b[0;34m\u001b[0m\u001b[0m\n",
      "\u001b[0;32m/usr/local/lib/python3.7/site-packages/selenium/webdriver/remote/webdriver.py\u001b[0m in \u001b[0;36mfind_element_by_id\u001b[0;34m(self, id_)\u001b[0m\n\u001b[1;32m    358\u001b[0m             \u001b[0melement\u001b[0m \u001b[0;34m=\u001b[0m \u001b[0mdriver\u001b[0m\u001b[0;34m.\u001b[0m\u001b[0mfind_element_by_id\u001b[0m\u001b[0;34m(\u001b[0m\u001b[0;34m'foo'\u001b[0m\u001b[0;34m)\u001b[0m\u001b[0;34m\u001b[0m\u001b[0;34m\u001b[0m\u001b[0m\n\u001b[1;32m    359\u001b[0m         \"\"\"\n\u001b[0;32m--> 360\u001b[0;31m         \u001b[0;32mreturn\u001b[0m \u001b[0mself\u001b[0m\u001b[0;34m.\u001b[0m\u001b[0mfind_element\u001b[0m\u001b[0;34m(\u001b[0m\u001b[0mby\u001b[0m\u001b[0;34m=\u001b[0m\u001b[0mBy\u001b[0m\u001b[0;34m.\u001b[0m\u001b[0mID\u001b[0m\u001b[0;34m,\u001b[0m \u001b[0mvalue\u001b[0m\u001b[0;34m=\u001b[0m\u001b[0mid_\u001b[0m\u001b[0;34m)\u001b[0m\u001b[0;34m\u001b[0m\u001b[0;34m\u001b[0m\u001b[0m\n\u001b[0m\u001b[1;32m    361\u001b[0m \u001b[0;34m\u001b[0m\u001b[0m\n\u001b[1;32m    362\u001b[0m     \u001b[0;32mdef\u001b[0m \u001b[0mfind_elements_by_id\u001b[0m\u001b[0;34m(\u001b[0m\u001b[0mself\u001b[0m\u001b[0;34m,\u001b[0m \u001b[0mid_\u001b[0m\u001b[0;34m)\u001b[0m\u001b[0;34m:\u001b[0m\u001b[0;34m\u001b[0m\u001b[0;34m\u001b[0m\u001b[0m\n",
      "\u001b[0;32m/usr/local/lib/python3.7/site-packages/selenium/webdriver/remote/webdriver.py\u001b[0m in \u001b[0;36mfind_element\u001b[0;34m(self, by, value)\u001b[0m\n\u001b[1;32m    976\u001b[0m         return self.execute(Command.FIND_ELEMENT, {\n\u001b[1;32m    977\u001b[0m             \u001b[0;34m'using'\u001b[0m\u001b[0;34m:\u001b[0m \u001b[0mby\u001b[0m\u001b[0;34m,\u001b[0m\u001b[0;34m\u001b[0m\u001b[0;34m\u001b[0m\u001b[0m\n\u001b[0;32m--> 978\u001b[0;31m             'value': value})['value']\n\u001b[0m\u001b[1;32m    979\u001b[0m \u001b[0;34m\u001b[0m\u001b[0m\n\u001b[1;32m    980\u001b[0m     \u001b[0;32mdef\u001b[0m \u001b[0mfind_elements\u001b[0m\u001b[0;34m(\u001b[0m\u001b[0mself\u001b[0m\u001b[0;34m,\u001b[0m \u001b[0mby\u001b[0m\u001b[0;34m=\u001b[0m\u001b[0mBy\u001b[0m\u001b[0;34m.\u001b[0m\u001b[0mID\u001b[0m\u001b[0;34m,\u001b[0m \u001b[0mvalue\u001b[0m\u001b[0;34m=\u001b[0m\u001b[0;32mNone\u001b[0m\u001b[0;34m)\u001b[0m\u001b[0;34m:\u001b[0m\u001b[0;34m\u001b[0m\u001b[0;34m\u001b[0m\u001b[0m\n",
      "\u001b[0;32m/usr/local/lib/python3.7/site-packages/selenium/webdriver/remote/webdriver.py\u001b[0m in \u001b[0;36mexecute\u001b[0;34m(self, driver_command, params)\u001b[0m\n\u001b[1;32m    319\u001b[0m         \u001b[0mresponse\u001b[0m \u001b[0;34m=\u001b[0m \u001b[0mself\u001b[0m\u001b[0;34m.\u001b[0m\u001b[0mcommand_executor\u001b[0m\u001b[0;34m.\u001b[0m\u001b[0mexecute\u001b[0m\u001b[0;34m(\u001b[0m\u001b[0mdriver_command\u001b[0m\u001b[0;34m,\u001b[0m \u001b[0mparams\u001b[0m\u001b[0;34m)\u001b[0m\u001b[0;34m\u001b[0m\u001b[0;34m\u001b[0m\u001b[0m\n\u001b[1;32m    320\u001b[0m         \u001b[0;32mif\u001b[0m \u001b[0mresponse\u001b[0m\u001b[0;34m:\u001b[0m\u001b[0;34m\u001b[0m\u001b[0;34m\u001b[0m\u001b[0m\n\u001b[0;32m--> 321\u001b[0;31m             \u001b[0mself\u001b[0m\u001b[0;34m.\u001b[0m\u001b[0merror_handler\u001b[0m\u001b[0;34m.\u001b[0m\u001b[0mcheck_response\u001b[0m\u001b[0;34m(\u001b[0m\u001b[0mresponse\u001b[0m\u001b[0;34m)\u001b[0m\u001b[0;34m\u001b[0m\u001b[0;34m\u001b[0m\u001b[0m\n\u001b[0m\u001b[1;32m    322\u001b[0m             response['value'] = self._unwrap_value(\n\u001b[1;32m    323\u001b[0m                 response.get('value', None))\n",
      "\u001b[0;32m/usr/local/lib/python3.7/site-packages/selenium/webdriver/remote/errorhandler.py\u001b[0m in \u001b[0;36mcheck_response\u001b[0;34m(self, response)\u001b[0m\n\u001b[1;32m    240\u001b[0m                 \u001b[0malert_text\u001b[0m \u001b[0;34m=\u001b[0m \u001b[0mvalue\u001b[0m\u001b[0;34m[\u001b[0m\u001b[0;34m'alert'\u001b[0m\u001b[0;34m]\u001b[0m\u001b[0;34m.\u001b[0m\u001b[0mget\u001b[0m\u001b[0;34m(\u001b[0m\u001b[0;34m'text'\u001b[0m\u001b[0;34m)\u001b[0m\u001b[0;34m\u001b[0m\u001b[0;34m\u001b[0m\u001b[0m\n\u001b[1;32m    241\u001b[0m             \u001b[0;32mraise\u001b[0m \u001b[0mexception_class\u001b[0m\u001b[0;34m(\u001b[0m\u001b[0mmessage\u001b[0m\u001b[0;34m,\u001b[0m \u001b[0mscreen\u001b[0m\u001b[0;34m,\u001b[0m \u001b[0mstacktrace\u001b[0m\u001b[0;34m,\u001b[0m \u001b[0malert_text\u001b[0m\u001b[0;34m)\u001b[0m\u001b[0;34m\u001b[0m\u001b[0;34m\u001b[0m\u001b[0m\n\u001b[0;32m--> 242\u001b[0;31m         \u001b[0;32mraise\u001b[0m \u001b[0mexception_class\u001b[0m\u001b[0;34m(\u001b[0m\u001b[0mmessage\u001b[0m\u001b[0;34m,\u001b[0m \u001b[0mscreen\u001b[0m\u001b[0;34m,\u001b[0m \u001b[0mstacktrace\u001b[0m\u001b[0;34m)\u001b[0m\u001b[0;34m\u001b[0m\u001b[0;34m\u001b[0m\u001b[0m\n\u001b[0m\u001b[1;32m    243\u001b[0m \u001b[0;34m\u001b[0m\u001b[0m\n\u001b[1;32m    244\u001b[0m     \u001b[0;32mdef\u001b[0m \u001b[0m_value_or_default\u001b[0m\u001b[0;34m(\u001b[0m\u001b[0mself\u001b[0m\u001b[0;34m,\u001b[0m \u001b[0mobj\u001b[0m\u001b[0;34m,\u001b[0m \u001b[0mkey\u001b[0m\u001b[0;34m,\u001b[0m \u001b[0mdefault\u001b[0m\u001b[0;34m)\u001b[0m\u001b[0;34m:\u001b[0m\u001b[0;34m\u001b[0m\u001b[0;34m\u001b[0m\u001b[0m\n",
      "\u001b[0;31mNoSuchElementException\u001b[0m: Message: no such element: Unable to locate element: {\"method\":\"css selector\",\"selector\":\"[id=\"username\"]\"}\n  (Session info: chrome=86.0.4240.80)\n"
     ]
    }
   ],
   "source": [
    "#abrimos url en incognito y sin que se abra cada vez\n",
    "options = webdriver.ChromeOptions()\n",
    "options.add_argument('--ignore-certificate-errors')\n",
    "options.add_argument('--incognito')\n",
    "options.add_argument('--headless')\n",
    "\n",
    "#importamos webdriver\n",
    "#driver=webdriver.Chrome(\"/Applications/chromedriver\",chrome_options=options)\n",
    "driver = webdriver.Chrome(ChromeDriverManager().install())\n",
    "\n",
    "#abrimos url info\n",
    "\n",
    "url_target=\"https://www.linkedin.com/school/ironhack/people/\"\n",
    "url_signup=\"https://www.linkedin.com/authwall?trk=gf&trkInfo=AQGt1Vf7B65IrwAAAXUyj1KYnk0ZXqmEIyTpy4aDrg8iQxJjYq05dkXULu4hjMEHet4_8i2pf3AU76otC1Py-qouSke0rg6Mr3sK21QQlg00v4a5z31exqDoSYC-jiDaaa23KjY=&originalReferer=&sessionRedirect=https%3A%2F%2Fwww.linkedin.com%2Fschool%2Fironhack%2Fpeople%2F\"\n",
    "url_signin=\"https://www.linkedin.com/uas/login?fromSignIn=true&trk=cold_join_sign_in\"\n",
    "\n",
    "driver.get(url_target)\n",
    "\n",
    "\n",
    "# si se abre con sign up click sign in\n",
    "if url_target==url_signup:\n",
    "    driver.find_element_by_xpath('//a[@href=\"https://www.linkedin.com/login?session_redirect=https%3A%2F%2Fwww%2Elinkedin%2Ecom%2Fschool%2Fironhack%2Fpeople%2F&fromSignIn=true&trk=public_authwall_unknown-login-link\"]').click()\n",
    "\n",
    "\n",
    "elif url_target==url_signin:\n",
    "\n",
    "    # usamos mi (Anna) cuenta de LinkedIn para entrar\n",
    "    file= open(\"config.txt\")\n",
    "    lines=file.readlines()\n",
    "    username= lines[0]\n",
    "    password= lines[1]\n",
    "\n",
    "\n",
    "    elementID= driver.find_element_by_id(\"username\")\n",
    "    elementID.send_keys(username)\n",
    "\n",
    "\n",
    "    elementID= driver.find_element_by_id(\"password\")\n",
    "    elementID.send_keys(password)\n",
    "\n",
    "    elementID.submit()\n",
    "else:\n",
    "    # usamos mi (Anna) cuenta de LinkedIn para entrar\n",
    "    file= open(\"config.txt\")\n",
    "    lines=file.readlines()\n",
    "    username= lines[0]\n",
    "    password= lines[1]\n",
    "\n",
    "\n",
    "    elementID= driver.find_element_by_id(\"username\")\n",
    "    elementID.send_keys(username)\n",
    "\n",
    "\n",
    "    elementID= driver.find_element_by_id(\"password\")\n",
    "    elementID.send_keys(password)\n",
    "\n",
    "    elementID.submit()\n",
    "\n",
    "#scroll down\n",
    "#driver.execute_script(\"window.scrollTo(0,500)\")\n",
    "\n",
    "    page= driver.find_element_by_tag_name(\"html\")\n",
    "    page.send_keys(Keys.END)\n"
   ]
  },
  {
   "cell_type": "code",
   "execution_count": null,
   "metadata": {},
   "outputs": [],
   "source": [
    "\n",
    "\n",
    "\n"
   ]
  },
  {
   "cell_type": "code",
   "execution_count": null,
   "metadata": {},
   "outputs": [],
   "source": [
    "#def getProfileID(soup, profiles):\n",
    "   # profilesID= []\n",
    "   # pav= soup.find(\"section\",{})"
   ]
  },
  {
   "cell_type": "code",
   "execution_count": 12,
   "metadata": {},
   "outputs": [],
   "source": []
  },
  {
   "cell_type": "code",
   "execution_count": 7,
   "metadata": {},
   "outputs": [
    {
     "data": {
      "text/plain": [
       "80"
      ]
     },
     "execution_count": 7,
     "metadata": {},
     "output_type": "execute_result"
    }
   ],
   "source": [
    "# open the file to save the review\n",
    "csvFile = open(\"/Users/annavilardell/Desktop/BootcampData/PR05-project-tableau/PR05-project-tableau-Anna/AlumniIronhack.csv\", 'a')\n",
    "csvWriter = csv.writer(csvFile)\n",
    "csvWriter.writerow([\"Name\",\"Last Name\",\"Counrty Origen\",\"Country Bootcamp\",\"Year Bootcamp\", \"Company\", \"Education\"])"
   ]
  },
  {
   "cell_type": "code",
   "execution_count": 37,
   "metadata": {},
   "outputs": [],
   "source": [
    "load_more= True\n",
    "count= 0\n",
    "\n",
    "while load_more:\n",
    "    t.sleep(1)\n",
    "    try:\n",
    "        driver.execute_script(\"window.scrollTo(0,document.body.scrollheight);\")\n",
    "        if count>1:\n",
    "            load_more=False\n",
    "        else:\n",
    "            count= count + 1\n",
    "    except:\n",
    "        load_more= False"
   ]
  },
  {
   "cell_type": "code",
   "execution_count": null,
   "metadata": {},
   "outputs": [],
   "source": []
  },
  {
   "cell_type": "code",
   "execution_count": null,
   "metadata": {},
   "outputs": [],
   "source": [
    "#Data we expect to get:\n",
    "#1_763 reviews totales de 177 paginas totales\n",
    "\n",
    "for i in range(0,177):\n",
    "    try:\n",
    "        \n",
    "        if (check_exists_by_xpath(\"//span[@class='taLnk ulBlueLinks']\")):\n",
    "\n",
    "            # Recogemos todo el review (incl el que no se enseña porque es muy largo y lleva un botón de \"more\") \n",
    "            driver.find_element_by_xpath(\"//span[@class='taLnk ulBlueLinks']\").click()\n",
    "            time.sleep(5)\n",
    "\n",
    "        container = driver.find_elements_by_xpath(\"//div[@class='rev_wrap ui_columns is-multiline']\")\n",
    "        num_page_items = len(container);\n",
    "\n",
    "        for j in range(num_page_items):\n",
    "\n",
    "            # Guardamos el rating\n",
    "            string = container[j].find_element_by_xpath(\".//span[contains(@class, 'ui_bubble_rating bubble_')]\").get_attribute(\"class\")\n",
    "            data = string.split(\"_\")\n",
    "\n",
    "            # Guardamos la información seleccionada en el csv que creamos anteriormente\n",
    "            csvWriter.writerow([data[3],\n",
    "                                container[j].find_element_by_xpath(\".//div[@class='quote']\").text,\n",
    "                                container[j].find_element_by_xpath(\".//div[@class='entry']\").text.replace(\"\\n\", \"\"),\n",
    "                                container[j].find_element_by_xpath(\".//span[@class='ratingDate']\").text,\n",
    "                                container[j].find_element_by_xpath(\".//div[@class='prw_rup prw_reviews_stay_date_hsx']\").text])\n",
    "\n",
    "        # Cambiamos de pagina para tener todos los reviews de cada una de ellas\n",
    "        if (check_exists_by_xpath('//a[@class=\"nav next ui_button primary  cx_brand_refresh_phase2\"]')):\n",
    "            driver.find_element_by_xpath('//a[@class=\"nav next ui_button primary  cx_brand_refresh_phase2\"]').click()\n",
    "        time.sleep(5)\n",
    "    \n",
    "    except Exception as Error:\n",
    "        print (\"Oops: An Error occurred:\",Error)\n",
    "\n",
    "driver.close()\n",
    "\n"
   ]
  },
  {
   "cell_type": "code",
   "execution_count": null,
   "metadata": {},
   "outputs": [],
   "source": []
  },
  {
   "cell_type": "code",
   "execution_count": null,
   "metadata": {},
   "outputs": [],
   "source": []
  },
  {
   "cell_type": "code",
   "execution_count": null,
   "metadata": {},
   "outputs": [],
   "source": [
    "data=pd.read_csv(\"AlumniIronhack.csv\")"
   ]
  }
 ],
 "metadata": {
  "kernelspec": {
   "display_name": "Python 3",
   "language": "python",
   "name": "python3"
  },
  "language_info": {
   "codemirror_mode": {
    "name": "ipython",
    "version": 3
   },
   "file_extension": ".py",
   "mimetype": "text/x-python",
   "name": "python",
   "nbconvert_exporter": "python",
   "pygments_lexer": "ipython3",
   "version": "3.7.7"
  }
 },
 "nbformat": 4,
 "nbformat_minor": 4
}
